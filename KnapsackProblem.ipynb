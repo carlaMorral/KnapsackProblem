{
 "cells": [
  {
   "cell_type": "markdown",
   "metadata": {
    "lang": "es"
   },
   "source": [
    "<div class=\"alert alert-info\">\n",
    "<center>\n",
    "  <h1>Introducción</h1>\n",
    "</center>"
   ]
  },
  {
   "cell_type": "markdown",
   "metadata": {
    "lang": "en"
   },
   "source": [
    "<div class=\"alert alert-info\">\n",
    "<center>\n",
    "  <h1>Introduction</h1>\n",
    "</center>"
   ]
  },
  {
   "cell_type": "markdown",
   "metadata": {
    "lang": "es"
   },
   "source": [
    "\n",
    "<img src=\"https://upload.wikimedia.org/wikipedia/commons/8/8c/Greedy-search-path-example.gif\">\n",
    "\n",
    "\n",
    "Todos los algoritmos greedy comparten ciertas características:\n",
    "<ol>\n",
    "    <li><b>Conjunto</b> de elementos a partir de los cuales formar una solución.</li>\n",
    "    <li>Criterio de <b>elección</b> del siguiente elemento candidato (Heurística).</li>\n",
    "    <li>Criterio de <b>validación</b> sobre los elementos candidatos.</li>\n",
    "    <li>Criterio de <b>terminación</b>, que indica cuando hemos alcanzado una solución completa.</li>\n",
    "    <li>Métrica de <b>evaluación</b> de una solución, total o parcial.</li>\n",
    "</ol>"
   ]
  },
  {
   "cell_type": "markdown",
   "metadata": {
    "lang": "en"
   },
   "source": [
    "<img src=\"https://upload.wikimedia.org/wikipedia/commons/8/8c/Greedy-search-path-example.gif\">\n",
    "\n",
    "All greedy algorithms share certain characteristics:\n",
    "<ol>\n",
    "    <li><b>Set</b> of elements from which to form a solution.</li>\n",
    "    <li> Criteria of <b>election</b> of the following candidate element (Heuristics) .</li>\n",
    "    <li> Criteria of <b>validation</b> on the candidate elements.</li>\n",
    "    <li> Criteria of <b>termination</b>, which indicates when we have reached a complete solution.</li>\n",
    "    <li>Metric of <b>evaluation</b> of a solution, total or partial.</li>\n",
    "</ol>"
   ]
  },
  {
   "cell_type": "markdown",
   "metadata": {
    "lang": "es"
   },
   "source": [
    "<div class=\"alert alert-info\">\n",
    "<center>\n",
    "  <h1>Contenido</h1>\n",
    "  </center><p>\n",
    "\n"
   ]
  },
  {
   "cell_type": "markdown",
   "metadata": {
    "lang": "en"
   },
   "source": [
    "<div class=\"alert alert-info\">\n",
    "<center>\n",
    "  <h1>Content</h1>\n",
    "  </center> <p>"
   ]
  },
  {
   "cell_type": "markdown",
   "metadata": {
    "lang": "es"
   },
   "source": [
    "<div class=\"alert alert-success\" style=\"width:90%; margin:0 auto;\">\n",
    "<h2>0 - Greedy Solver</h2>\n",
    "\n",
    "Dado que todos los algoritmos Greedy siguen la misma estrategia, es posible crear una función que, dados los criterios de elección, validación y terminación, resuelva cualquier problema genéricamente. Adicionalmente, una función de evaluación de soluciones para determinar lo buena que es la solución propuesta por el algoritmo."
   ]
  },
  {
   "cell_type": "markdown",
   "metadata": {
    "lang": "en"
   },
   "source": [
    "<div class=\"alert alert-success\" style=\"width:90%; margin:0 auto;\">\n",
    "<h2>0 - Greedy Solver</h2>\n",
    "\n",
    "Since all Greedy algorithms follow the same strategy, it is possible to create a function that, given the criteria of choice, validation and termination, solves any problem generically. Additionally, a solution evaluation function to determine how good the solution proposed by the algorithm is."
   ]
  },
  {
   "cell_type": "code",
   "execution_count": 1,
   "metadata": {
    "collapsed": true
   },
   "outputs": [],
   "source": [
    "class GreedySolver:\n",
    "    # Define los criterios que utilizará el GreedySolver\n",
    "    def __init__(self, choice, is_valid, is_complete, evaluate,preprocess=lambda D: None):\n",
    "        self._choice = choice\n",
    "        self._is_valid = is_valid\n",
    "        self._is_complete = is_complete\n",
    "        self._evaluate = evaluate\n",
    "        self._preprocess = preprocess \n",
    "\n",
    "    # Estrategia genérica de resolución de problemas\n",
    "    def solve(self, D):\n",
    "        self._preprocess(D)\n",
    "        x = []\n",
    "        # Mientras no se cumpla el criterio de terminación\n",
    "        while D and not self._is_complete(x, D):\n",
    "            # Escoge un elemento\n",
    "            d = self._choice(x, D)\n",
    "            # Comprueba si el elemento puede ser incluido en la solución\n",
    "            if self._is_valid(x, d):\n",
    "                x.append(d)\n",
    "        # Devuelve la solución y la métrica\n",
    "        return x, self._evaluate(x)\n",
    "\n",
    "# Genera un conjunto de objetos de prueba\n",
    "def random_objects(one_or_inf=True):\n",
    "    objects = []\n",
    "    # Genera una lista de listas, cada una de las cuales representa un elemento [peso,valor] o [peso,valor,cantidad]\n",
    "    if one_or_inf:\n",
    "        for p,v in zip(random.sample(range(1, 50), k=10), random.sample(range(1, 100), k=10)):\n",
    "            objects.append([p,v])\n",
    "    else:\n",
    "        for p,v,c in zip(random.sample(range(1, 50), k=10), random.sample(range(1, 100), k=10),random.sample(range(1, 15), k=10)):\n",
    "            objects.append([p,v,c])\n",
    "    return objects"
   ]
  },
  {
   "cell_type": "markdown",
   "metadata": {
    "lang": "es"
   },
   "source": [
    "<div class=\"alert alert-success\" style=\"width:90%; margin:0 auto;\">\n",
    "\n",
    "  <h2><p>1- El problema de la mochila</p></h2>\n",
    "  \n",
    "  <center><img src=\"img/knapsack.png\" width=40%></center>\n",
    "  \n",
    "  <p>\n",
    "    Nos encontramos en una habitación en la que hay $N$ objetos con pesos $w_1, w_2, w_3 ... w_N$ y tenemos una mochila que puede soportar una carga máxima de $W$.\n",
    "    En esta práctica se pide que realicéis una implementación Greedy para resolver los siguientes problemas:\n",
    " <ol><li>\n",
    " **mochila:** En este caso buscamos llenar la mochila lo máximo posible. En otras palabras,queremos que $\\sum_{i=0}^{N}{(w_i · b_i)}\\leq W$ aproximándose lo más posible a $W$, donde $b_k$ es un valor binario que representa si el objeto es escogido o no.\n",
    " </li><li>\n",
    " **mochila_valor:** Igual que en el caso anterior, pero ahora cada objeto tendrá asignado un valor $v_1, v_2, v_3 ... v_N$. En este caso buscamos llenar la mochila maximizando el valor total de la mochila. Es decir queremos encontrar la combinación de objetos $b$ tal que $\\arg_{b} \\max{\\sum_{i=0}^{N}{v_i · b_i}}$ manteniendo la condición anterior de que $\\sum_{i=0}^{N}{(w_i · b_i)}\\leq W$.\n",
    "     </li>\n",
    "     <li>\n",
    "     **mochila_diversa:** Para este problema queremos meter en la mochila la mayor cantidad de objetos posibles. De esta manera, buscamos que la combinación de objetos $b$ tal que $\\arg_{b} \\max{\\sum_{i=0}^{N}{b_i}}$.\n",
    "     </li><li>\n",
    "     **mochila_fraccionada:** Aquí podemos coger solo una parte del objeto. Así pues, dispondremos de una lista $x_1, x_2, x_3 ... x_N$ tal que $0 \\leq x_i \\leq 1$ y queremos que $\\arg_{b} \\max{\\sum_{i=0}^{N}{v_i · x_i}}$ manteniendo la condición anterior de que $\\sum_{i=0}^{N}{(w_i · x_i)}\\leq W$.\n",
    "     </li>\n",
    " </ol>\n",
    "</p>"
   ]
  },
  {
   "cell_type": "markdown",
   "metadata": {
    "lang": "en"
   },
   "source": [
    "<div class=\"alert alert-success\" style=\"width:90%; margin:0 auto;\">\n",
    "\n",
    "  <h2><p>1- The Knapsack Problem</p></h2>\n",
    "  \n",
    "  <center><img src=\"img/knapsack.png\" width=40%></center>\n",
    "  \n",
    "  <p>\n",
    "    Nos encontramos en una habitación en la que hay $N$ objetos con pesos $w_1, w_2, w_3 ... w_N$ y tenemos una mochila que puede soportar una carga máxima de $W$.\n",
    "    En esta práctica se pide que realicéis una implementación Greedy para resolver los siguientes problemas:\n",
    " <ol><li>\n",
    " **backpack:** In this case we seek to fill the backpack as much as possible. In other words, we want $\\sum_{i=0}^{N}{(w_i · b_i)}\\leq W$ as close as possible to $W$, where $b_k$ is a binary value that represents whether the object is chosen or not.\n",
    " </li><li>\n",
    " **backpack_value:** Same as in the previous case, but now each object will be assigned a $v_1, v_2, v_3 ... v_N$ value. In this case we seek to fill the backpack maximizing the total value of the backpack. In other words, we want to find the combination of $b$ objects such that $\\arg_{b} \\max{\\sum_{i=0}^{N}{v_i · b_i}}$ while maintaining the previous condition of $\\sum_{i=0}^{N}{(w_i · b_i)}\\leq W$.\n",
    "     </li>\n",
    "     <li>\n",
    "     **diverse_knapsack:** For this problem we want to put in the backpack as many objects as possible. In this way, we look for the combination of $b$ objects such that $\\arg_{b} \\max{\\sum_{i=0}^{N}{b_i}}$.\n",
    "     </li><li>\n",
    "     **fractional_knapsack:** Here we can take only part of the object. Thus, we will have a $x_1, x_2, x_3 ... x_N$ list such as $0 \\leq x_i \\leq 1$ and we want $\\arg_{b} \\max{\\sum_{i=0}^{N}{v_i · x_i}}$ maintaining the previous condition of $\\sum_{i=0}^{N}{(w_i · x_i)}\\leq W$.\n",
    "     </li>\n",
    " </ol>\n",
    "</p>"
   ]
  },
  {
   "cell_type": "markdown",
   "metadata": {
    "lang": "es"
   },
   "source": [
    "<div class=\"alert alert-danger\" style=\"width:80%; margin:0 auto; padding\">\n",
    "<center><p><h3> Código </h3></p> </center>\n",
    "<p>\n",
    "**choice.** Esta función debe seleccionar el siguiente elemento.\n",
    "    <ul>\n",
    "        <li>Input:\n",
    "            <ul>\n",
    "                <li>x. Elementos que forman la solución actual</li>\n",
    "                <li>D. Conjunto de elementos disponibles</li>\n",
    "            </ul>\n",
    "        </li>\n",
    "        <li>Output:\n",
    "            <ul>\n",
    "                <li>d. Elemento seleccionado</li>\n",
    "            </ul>\n",
    "        </li>\n",
    "        </ul>\n",
    "</p>\n",
    "\n",
    "<p>\n",
    "**is_valid.** Esta función debe decidir si el elemento seleccionado puede añadirse a la solución.\n",
    "    <ul>\n",
    "        <li>Input:\n",
    "            <ul>\n",
    "                <li>x. Elementos que forman la solución actual</li>\n",
    "                <li>d. Elemento seleccionado</li>\n",
    "            </ul>\n",
    "        </li>\n",
    "        <li>Output:\n",
    "            <ul>\n",
    "                <li>valid. Booleano que indica la validez del elemento a añadir</li>\n",
    "            </ul>\n",
    "        </li>\n",
    "    </ul>\n",
    "</p>\n",
    "\n",
    "<p>\n",
    "**is_complete.** Esta función debe decidir si la solución encontrada es completa o si no puede continuarse.\n",
    "    <ul>\n",
    "        <li>Input:\n",
    "            <ul>\n",
    "                <li>x. Elementos que forman la solución actual</li>\n",
    "                <li>D. Conjunto de elementos disponibles</li>\n",
    "            </ul>\n",
    "        </li>\n",
    "        <li>Output:\n",
    "            <ul>\n",
    "                <li>complete. Booleano que indica si la solución es completa o imposible seguir</li>\n",
    "            </ul>\n",
    "        </li>\n",
    "    </ul>\n",
    "</p>\n",
    "\n",
    "<p>\n",
    "**evaluate.** Esta función devuelve una métrica indicando lo buena que es la solución encontrada.\n",
    "    <ul>\n",
    "        <li>Input:\n",
    "            <ul>\n",
    "                <li>x. Elementos que forman la solución</li>\n",
    "            </ul>\n",
    "        </li>\n",
    "        <li>Output:\n",
    "            <ul>\n",
    "                <li>metric. Valor de la métrica evaluada sobre la solución</li>\n",
    "            </ul>\n",
    "        </li>\n",
    "    </ul>\n",
    "</p>\n",
    "<p> <b> Nota: </b> El output de llamar a <i>GreedySolver.solve(D)</i> debe seguir un formato concreto:\n",
    "    <ul>\n",
    "        <li> La solución será la lista de objetos escogidos con la forma $[w_i,v_i]$ cuando solo se pueda coger un elemento de cada tipo y con la forma $[w_i,v_i,c_i]$ cuando la cantidad de objetos sea relevante.</li>\n",
    "        <li> A la solución lo acompañará el resultado de la función <i>GreedySolver.evaluate()</i>: el peso total de la mochila $w_t$ o una tupla $(w_T,v_T)$ para indicar el peso y valor totales de la mochila (en los casos en que el valor sea relevante).</li>\n",
    "    </ul>\n",
    "</p>\n",
    "</div>\n"
   ]
  },
  {
   "cell_type": "markdown",
   "metadata": {
    "lang": "en"
   },
   "source": [
    "<div class=\"alert alert-danger\" style=\"width:80%; margin:0 auto; padding\">\n",
    "<center><p><h3> Code </h3></p> </center>\n",
    "<p>\n",
    "**choice.** Esta función debe seleccionar el siguiente elemento.\n",
    "    <ul>\n",
    "        <li>Input:\n",
    "            <ul>\n",
    "                <li>x. Elements that make up the actual</li> solution\n",
    "                <li>D. Set of available elements</li>\n",
    "            </ul>\n",
    "        </li>\n",
    "        <li>Output:\n",
    "            <ul>\n",
    "                <li>d. Selected element</li>\n",
    "            </ul>\n",
    "        </li>\n",
    "        </ul>\n",
    "</p>\n",
    "\n",
    "<p>\n",
    "**is_valid.** Esta función debe decidir si el elemento seleccionado puede añadirse a la solución.\n",
    "    <ul>\n",
    "        <li>Input:\n",
    "            <ul>\n",
    "                <li>x. Elements that make up the actual</li> solution\n",
    "                <li>d. Selected element</li>\n",
    "            </ul>\n",
    "        </li>\n",
    "        <li>Output:\n",
    "            <ul>\n",
    "                <li>valid. Boolean indicating the validity of the element to add</li>\n",
    "            </ul>\n",
    "        </li>\n",
    "    </ul>\n",
    "</p>\n",
    "\n",
    "<p>\n",
    "**is_complete.** Esta función debe decidir si la solución encontrada es completa o si no puede continuarse.\n",
    "    <ul>\n",
    "        <li>Input:\n",
    "            <ul>\n",
    "                <li>x. Elements that make up the actual</li> solution\n",
    "                <li>D. Set of available elements</li>\n",
    "            </ul>\n",
    "        </li>\n",
    "        <li>Output:\n",
    "            <ul>\n",
    "                <li>complete. Boolean that indicates if the solution is complete or impossible to follow</li>\n",
    "            </ul>\n",
    "        </li>\n",
    "    </ul>\n",
    "</p>\n",
    "\n",
    "<p>\n",
    "**evaluate.** Esta función devuelve una métrica indicando lo buena que es la solución encontrada.\n",
    "    <ul>\n",
    "        <li>Input:\n",
    "            <ul>\n",
    "                <li>x. Elements that form the solution\n",
    "            </ul>\n",
    "        </li>\n",
    "        <li>Output:\n",
    "            <ul>\n",
    "                <li>metric. Value of the metric evaluated on the solution\n",
    "            </ul>\n",
    "        </li>\n",
    "    </ul>\n",
    "</p>\n",
    "<p> <b> Note: </b> The output of calling <i>GreedySolver.solve(D)</i> must follow a specific format:\n",
    "    <ul>\n",
    "        <li> The solution will be the list of objects chosen with the form $[w_i,v_i]$ when only one element of each type can be taken and with the form $[w_i,v_i,c_i]$ when the quantity of objects is relevant.</li>\n",
    "        <li> The solution will be accompanied by the result of the <i>GreedySolver.evaluate()</i> function: the total weight of the $w_t$ backpack or a $(w_T,v_T)$ tuple to indicate the total weight and value of the backpack (in cases where the value is relevant) .</li>\n",
    "    </ul>\n",
    "</p>\n",
    "</div>"
   ]
  },
  {
   "cell_type": "markdown",
   "metadata": {
    "lang": "es"
   },
   "source": [
    "Define para cada una de las variantes del problema de la mochila las funciones necesarias para el correcto funcionamiento del GreedySolver."
   ]
  },
  {
   "cell_type": "markdown",
   "metadata": {
    "lang": "en"
   },
   "source": [
    "Define for each of the variants of the backpack problem the functions necessary for the proper functioning of the GreedySolver."
   ]
  },
  {
   "cell_type": "code",
   "execution_count": 3,
   "metadata": {
    "collapsed": true
   },
   "outputs": [],
   "source": [
    "# Capacidad de la mochila\n",
    "W = 150"
   ]
  },
  {
   "cell_type": "code",
   "execution_count": 44,
   "metadata": {},
   "outputs": [
    {
     "data": {
      "text/plain": [
       "[(7, 1), (2, 0), (4, 5), (3, 8)]"
      ]
     },
     "execution_count": 44,
     "metadata": {},
     "output_type": "execute_result"
    }
   ],
   "source": [
    "#(peso,valor)\n",
    "#Mejor caso: peso =(aprox) 0 y valor muy alto EJ (0.5,1000)\n",
    "#Peor caso: peso muy alto y valor muy bajo (1000,0.5)\n",
    "l = [(3,8),(2,0),(4,5),(7,1)]\n",
    "l.sort(key=lambda x:x[1]-x[0])\n",
    "l"
   ]
  },
  {
   "cell_type": "code",
   "execution_count": 86,
   "metadata": {
    "collapsed": true
   },
   "outputs": [],
   "source": [
    "def choice1(x, D):\n",
    "    \n",
    "    #Devolvemos el objeto con máximo peso para seguir la estructura greedy\n",
    "    return D.pop()  \n",
    "\n",
    "def is_valid1(x, d):\n",
    "    \n",
    "    #Calculamos el hipotético nuevo peso de la mochila.\n",
    "    nuevo_peso = 0\n",
    "    for objeto in x:\n",
    "        nuevo_peso += objeto[0]\n",
    "    #Le sumamos el peso del hipoténuevo elemento\n",
    "    nuevo_peso += d[0]\n",
    "    \n",
    "    #Miramos si dicho peso es superior al que soporta la mochila. Si es así, no deberemos añadir el objeto.\n",
    "    if(W < nuevo_peso): return False\n",
    "    return True\n",
    "\n",
    "def is_complete1(x, D):\n",
    "    \n",
    "    #Calculamos el peso actual de la mochila.\n",
    "    peso_actual_mochila = 0\n",
    "    for objeto in x:\n",
    "        peso_actual_mochila += objeto[0]\n",
    "    \n",
    "    #Si el menor peso disponible más el peso actual de la mochila es menor a W, no es completa. \n",
    "    if(D[0][0] + peso_actual_mochila <= W): return False\n",
    "    return True\n",
    "\n",
    "def evaluate1(x):\n",
    "    \n",
    "    peso_en_mochila = 0\n",
    "    for objeto in x:\n",
    "        peso_en_mochila += objeto[0]\n",
    "    \n",
    "    porcentaje = (peso_en_mochila/W)*100\n",
    "    sol = \"Hemos llenado el \" + str(porcentaje) + \"% de la mochila\"\n",
    "    \n",
    "    return sol\n",
    "    \n",
    "#Ordenamos la lista de menor a mayor peso ya que iremos sacando los elementos del final de la lista.\n",
    "def preprocess1(D):\n",
    "    \n",
    "    D.sort()\n"
   ]
  },
  {
   "cell_type": "code",
   "execution_count": 131,
   "metadata": {
    "collapsed": true
   },
   "outputs": [],
   "source": [
    "def choice2(x, D):\n",
    "    \n",
    "    #Devolvemos el objeto con máximo velor para seguir la estructura greedy\n",
    "    return D.pop()\n",
    "\n",
    "def is_valid2(x, d):\n",
    "    \n",
    "    #Calculamos el hipotético nuevo peso de la mochila después de haber añadido el último objeto.\n",
    "    nuevo_peso = 0\n",
    "    for objeto in x:\n",
    "        nuevo_peso += objeto[0]\n",
    "    nuevo_peso += d[0]\n",
    "    \n",
    "    #Miramos si dicho peso es superior al que soporta la mochila. Si es así, no deberemos añadir el objeto.\n",
    "    if(W < nuevo_peso): return False\n",
    "    return True\n",
    "\n",
    "def is_complete2(x, D):\n",
    "    \n",
    "    #Calculamos el peso actual de la mochila.\n",
    "    peso_actual_mochila = 0\n",
    "    for objeto in x:\n",
    "        peso_actual_mochila += objeto[0]\n",
    "    \n",
    "    #Si el menor peso disponible más el peso actual de la mochila es menor a W, no es completa. \n",
    "    minim = 100\n",
    "    for elem in D:\n",
    "        if elem[0] < minim:\n",
    "            minim = elem[0]\n",
    "            \n",
    "    if(minim + peso_actual_mochila <= W): return False\n",
    "    return True\n",
    "\n",
    "def evaluate2(x):\n",
    "    \n",
    "    valor_en_mochila = 0\n",
    "    for objeto in x:\n",
    "        valor_en_mochila += objeto[1]\n",
    "    \n",
    "    sol = \"La mochila tiene un valor de \" + str(valor_en_mochila)\n",
    "    \n",
    "    return sol\n",
    "    \n",
    "#Ordena los elementos de menor a mayor en función del valor\n",
    "def preprocess2(D):\n",
    "    \n",
    "    D.sort(key=lambda x:x[1]/x[0])\n"
   ]
  },
  {
   "cell_type": "code",
   "execution_count": 132,
   "metadata": {
    "collapsed": true
   },
   "outputs": [],
   "source": [
    "def choice3(x, D):\n",
    "    \n",
    "    #Devolvemos el objeto con mínimo peso para seguir la estructura greedy         \n",
    "    return D.pop()   \n",
    "\n",
    "def is_valid3(x, d):\n",
    "    \n",
    "    #Calculamos el hipotético nuevo peso de la mochila después de haber añadido el último objeto.\n",
    "    nuevo_peso = 0\n",
    "    for objeto in x:\n",
    "        nuevo_peso += objeto[0]\n",
    "    nuevo_peso += d[0]\n",
    "    \n",
    "    #Miramos si dicho peso es superior al que soporta la mochila. Si es así, no deberemos añadir el objeto.\n",
    "    if(W < nuevo_peso): return False\n",
    "    return True\n",
    "\n",
    "def is_complete3(x, D):\n",
    "    \n",
    "    #Calculamos el peso actual de la mochila.\n",
    "    peso_actual_mochila = 0\n",
    "    for objeto in x:\n",
    "        peso_actual_mochila += objeto[0]\n",
    "    \n",
    "    #Si el menor peso disponible más el peso actual de la mochila es menor a W, no es completa.    \n",
    "    if(D[0][0] + peso_actual_mochila <= W): return False\n",
    "    return True\n",
    "\n",
    "def evaluate3(x):\n",
    "    \n",
    "    objetos_en_mochila = 0\n",
    "    for objeto in x:\n",
    "        objetos_en_mochila += 1\n",
    "        \n",
    "    sol = \"Hay \" + str(objetos_en_mochila) + \" objetos en la mochila\"\n",
    "    \n",
    "    return sol\n",
    "    \n",
    "    \n",
    "def preprocess3(D):\n",
    "    \n",
    "    D.sort(key=lambda x:x[0],reverse=True)\n"
   ]
  },
  {
   "cell_type": "code",
   "execution_count": 133,
   "metadata": {
    "collapsed": true
   },
   "outputs": [],
   "source": [
    "def choice4(x, D):\n",
    "    \n",
    "    #Devolvemos el objeto con máximo valor para seguir la estructura greedy\n",
    "    return D.pop()  \n",
    "\n",
    "def is_valid4(x, d):\n",
    "    \n",
    "    #Calculamos el hipotético nuevo peso de la mochila después de haber añadido el último objeto.\n",
    "    nuevo_peso = 0\n",
    "    peso_act = 0\n",
    "    for objeto in x:\n",
    "        nuevo_peso += objeto[0]\n",
    "        peso_act += objeto[0]\n",
    "    nuevo_peso += d[0]\n",
    "    \n",
    "    #Miramos si dicho peso es superior al que soporta la mochila. Si es así, no podremos añadir todo el objeto.\n",
    "    p = 0\n",
    "    peso_restante = W\n",
    "    if(W < nuevo_peso):\n",
    "        #Peso que falta para llenar la mochila\n",
    "        res = W - peso_act\n",
    "        #Fracción que cogeremos de d\n",
    "        p = res/d[0]\n",
    "        d = [p*d[0],p*d[1]]\n",
    "        x.append(d)\n",
    "        return False\n",
    "    return True\n",
    "\n",
    "def is_complete4(x, D):\n",
    "    \n",
    "    #Calculamos el peso actual de la mochila.\n",
    "    peso_actual_mochila = 0\n",
    "    for objeto in x:\n",
    "        peso_actual_mochila += objeto[0]\n",
    "    \n",
    "    #Si la mochila no está llena y quedan objetos disponibles, no es completa. \n",
    "    if(peso_actual_mochila < W and D): return False\n",
    "    return True\n",
    "\n",
    "def evaluate4(x):\n",
    "    \n",
    "    valor_en_mochila = 0\n",
    "    for objeto in x:\n",
    "        valor_en_mochila += objeto[1]\n",
    "    \n",
    "    sol = \"La mochila tiene un valor de \" + str(valor_en_mochila)\n",
    "    return sol\n",
    "\n",
    "\n",
    "def preprocess4(D):\n",
    "\n",
    "    D.sort(key=lambda x:x[1]/x[0])\n"
   ]
  },
  {
   "cell_type": "markdown",
   "metadata": {
    "lang": "es"
   },
   "source": [
    "Añade aquí el código para instanciar un GreedySolver y utilizarlo para resolver cada uno de los problemas y mostrar la solución y su evaluación en pantalla."
   ]
  },
  {
   "cell_type": "markdown",
   "metadata": {
    "lang": "en"
   },
   "source": [
    "Add here the code to instantiate a GreedySolver and use it to solve each problem and show the solution and its evaluation on the screen."
   ]
  },
  {
   "cell_type": "code",
   "execution_count": 134,
   "metadata": {},
   "outputs": [
    {
     "name": "stdout",
     "output_type": "stream",
     "text": [
      "[[25, 75], [27, 28], [3, 65], [17, 18], [33, 37], [32, 97], [26, 13], [20, 80], [31, 33], [23, 69]]\n",
      "([[33, 37], [32, 97], [31, 33], [27, 28], [26, 13]], 'Hemos llenado el 99.33333333333333% de la mochila')\n",
      "([[3, 65], [20, 80], [32, 97], [23, 69], [25, 75], [33, 37]], 'La mochila tiene un valor de 423')\n",
      "([[3, 65], [17, 18], [20, 80], [23, 69], [25, 75], [26, 13], [27, 28]], 'Hay 7 objetos en la mochila')\n",
      "([[3, 65], [20, 80], [32, 97], [23, 69], [25, 75], [33, 37], [14.0, 14.903225806451612]], 'La mochila tiene un valor de 437.9032258064516')\n"
     ]
    }
   ],
   "source": [
    "import copy\n",
    "import random\n",
    "# Con un seed fijo, el generador de objetos no cambia\n",
    "random.seed(0)\n",
    "\n",
    "# Genera una lista de elementos al azar en forma listas [peso, valor]\n",
    "D = random_objects()\n",
    "print(D)\n",
    "# Instancia los GreedySolvers y úsalos para resolver las variantes del problema de la mochila\n",
    "G1 = GreedySolver(choice1,is_valid1,is_complete1,evaluate1,preprocess1)\n",
    "print(G1.solve(copy.deepcopy(D)))\n",
    "G2 = GreedySolver(choice2,is_valid2,is_complete2,evaluate2,preprocess2)\n",
    "print(G2.solve(copy.deepcopy(D)))\n",
    "G3 = GreedySolver(choice3,is_valid3,is_complete3,evaluate3,preprocess3)\n",
    "print(G3.solve(copy.deepcopy(D)))\n",
    "G4 = GreedySolver(choice4,is_valid4,is_complete4,evaluate4,preprocess4)\n",
    "print(G4.solve(copy.deepcopy(D)))"
   ]
  },
  {
   "cell_type": "code",
   "execution_count": 124,
   "metadata": {
    "collapsed": true
   },
   "outputs": [],
   "source": [
    "E = D.copy"
   ]
  },
  {
   "cell_type": "markdown",
   "metadata": {
    "lang": "es"
   },
   "source": [
    "<div class=\"alert alert-success\" style=\"width:90%; margin:0 auto;\">\n",
    "\n",
    "  <h3>1.1- La mochila con varios objetos</h3>\n",
    "  <p>Supongamos ahora que en lugar de tener un único elemento de cada objeto, tenemos una cantidad determinada de cada uno y la solución no solo consiste en coger el objeto o no, sino también en cuántos cogemos de cada objeto. ¿Cómo cambia la implementación de la solución del ejercicio 2? Impleméntalo. ¿Es posible resolverlo con el esquema dado del GreedySolver? En caso negativo, crea una nueva clase GreedySolver_v con los cambios que consideres oportunos.\n",
    "</p>"
   ]
  },
  {
   "cell_type": "markdown",
   "metadata": {
    "lang": "en"
   },
   "source": [
    "<div class=\"alert alert-success\" style=\"width:90%; margin:0 auto;\">\n",
    "\n",
    "  <h3>1.1- The knapsack with several objects</h3>\n",
    "  <p>Suppose now that instead of having a single element of each object, we have a certain amount of each and the solution is not only to take the object or not, but also how many we take from each object. How does the implementation of the solution in exercise 2 change? Implement it Is it possible to solve it with the given GreedySolver scheme? If not, create a new GreedySolver_v class with the changes you consider appropriate\n",
    "</p>"
   ]
  },
  {
   "cell_type": "code",
   "execution_count": 135,
   "metadata": {
    "collapsed": true
   },
   "outputs": [],
   "source": [
    "def choice2_v(x, D):\n",
    "    \n",
    "    #Devolvemos el objeto con máximo valor para seguir la estructura greedy\n",
    "    res = D[-1]\n",
    "\n",
    "    #Lo eliminamos de D porque tanto si nos sirve como si no, no lo podemos volver a elegir.\n",
    "    #En el segundo caso nos generaria un bucle infinito.\n",
    "    \n",
    "    #Significa que solo queda un objeto de ese tipo.\n",
    "    if(res[2]-1 == 0): \n",
    "        return D.pop()\n",
    "    #Disminuimos en una unidad la cantidad de objetos 'res' que quedan pues hemos 'sacado' uno.\n",
    "    else: \n",
    "        res[2] = res[2]-1\n",
    "\n",
    "    return [res[0],res[1],1]   \n",
    "\n",
    "def is_valid2_v(x, d):\n",
    "    \n",
    "    #Calculamos el hipotético nuevo peso de la mochila después de haber añadido el último objeto.\n",
    "    nuevo_peso = 0\n",
    "    for objeto in x:\n",
    "        nuevo_peso += objeto[0]\n",
    "    nuevo_peso += d[0]\n",
    "    \n",
    "    #Miramos si dicho peso es superior al que soporta la mochila. Si es así, no añadiremos el objeto a la solución.\n",
    "    if(W < nuevo_peso): return False\n",
    "    return True\n",
    "\n",
    "def is_complete2_v(x, D):\n",
    "    \n",
    "    #Calculamos el peso actual de la mochila.\n",
    "    peso_actual_mochila = 0\n",
    "    for objeto in x:\n",
    "        peso_actual_mochila += objeto[0]\n",
    "    \n",
    "    #Si el menor peso disponible más el peso actual de la mochila es menor a W, no es completa. \n",
    "    minim = 100\n",
    "    for elem in D:\n",
    "        if elem[0] < minim:\n",
    "            minim = elem[0]\n",
    "            \n",
    "    if(minim + peso_actual_mochila <= W): return False\n",
    "    return True\n",
    "\n",
    "def evaluate2_v(x):\n",
    "    \n",
    "    valor_en_mochila = 0\n",
    "    for objeto in x:\n",
    "        valor_en_mochila += objeto[1]*objeto[2]\n",
    "    \n",
    "    sol = \"La mochila tiene un valor de \" + str(valor_en_mochila)\n",
    "    \n",
    "    return sol\n",
    "\n",
    "def preprocess2_v(D):\n",
    "    \n",
    "    D.sort(key=lambda x:x[1]/x[0])"
   ]
  },
  {
   "cell_type": "code",
   "execution_count": 136,
   "metadata": {},
   "outputs": [
    {
     "name": "stdout",
     "output_type": "stream",
     "text": [
      "[[25, 75, 12], [27, 28, 13], [3, 65, 10], [17, 18, 3], [33, 37, 5], [32, 97, 2], [26, 13, 9], [20, 80, 7], [31, 33, 6], [23, 69, 11]]\n",
      "([[3, 65, 1], [3, 65, 1], [3, 65, 1], [3, 65, 1], [3, 65, 1], [3, 65, 1], [3, 65, 1], [3, 65, 1], [3, 65, 1], [3, 65, 1], [20, 80, 1], [20, 80, 1], [20, 80, 1], [20, 80, 1], [20, 80, 1], [20, 80, 1]], 'La mochila tiene un valor de 1130')\n"
     ]
    }
   ],
   "source": [
    "import random\n",
    "random.seed(0)\n",
    "\n",
    "# Genera una lista de elementos al azar en forma de listas [peso, valor, cantidad]\n",
    "D=random_objects(False)\n",
    "print(D)\n",
    "# Instancia el GreedySolver y úsalo para resolver esta variante del problema de la mochila\n",
    "G2_v = GreedySolver(choice2_v,is_valid2_v,is_complete2_v,evaluate2_v,preprocess2_v)\n",
    "print(G2_v.solve(copy.copy(D)))"
   ]
  },
  {
   "cell_type": "markdown",
   "metadata": {
    "lang": "es"
   },
   "source": [
    "<div class=\"alert alert-success\" style=\"width:90%; margin:0 auto;\">\n",
    "\n",
    "  <h3>1.2- La mochila con infinitos objetos</h3>\n",
    "<p>Supongamos ahora que tenemos una cantidad ilimitada de cada objeto. ¿Cómo cambia la implementación de la solución del ejercicio ahora? Impleméntalo. ¿Es posible resolverlo con el esquema dado del GreedySolver? En caso negativo, crea una nueva clase GreedySolver_inf con los cambios que consideres oportunos.\n",
    "</p>"
   ]
  },
  {
   "cell_type": "markdown",
   "metadata": {
    "lang": "en"
   },
   "source": [
    "<div class=\"alert alert-success\" style=\"width:90%; margin:0 auto;\">\n",
    "\n",
    "  <h3>1.2- The knapsack with infinite objects</h3>\n",
    "<p>Supongamos ahora que tenemos una cantidad ilimitada de cada objeto. ¿Cómo cambia la implementación de la solución del ejercicio ahora? Impleméntalo. ¿Es posible resolverlo con el esquema dado del GreedySolver? En caso negativo, crea una nueva clase GreedySolver_inf con los cambios que consideres oportunos.\n",
    "</p>"
   ]
  },
  {
   "cell_type": "code",
   "execution_count": 142,
   "metadata": {
    "collapsed": true
   },
   "outputs": [],
   "source": [
    "def choice2_inf(x, D):\n",
    "    \n",
    "    if(is_valid2_inf(x,D[-1])):\n",
    "        return D[-1]\n",
    "    else: D.pop()\n",
    "    return D[-1]\n",
    "\n",
    "def is_valid2_inf(x, d):\n",
    "    \n",
    "    #Calculamos el hipotético nuevo peso de la mochila después de haber añadido el último objeto.\n",
    "    nuevo_peso = 0\n",
    "    for objeto in x:\n",
    "        nuevo_peso += objeto[0]\n",
    "    nuevo_peso += d[0]\n",
    "    \n",
    "    #Miramos si dicho peso es superior al que soporta la mochila. Si es así, no añadiremos el objeto a la solución.\n",
    "    if(W < nuevo_peso): return False\n",
    "    return True\n",
    "\n",
    "def is_complete2_inf(x, D):\n",
    "    \n",
    "    #Calculamos el peso actual de la mochila.\n",
    "    peso_actual_mochila = 0\n",
    "    for objeto in x:\n",
    "        peso_actual_mochila += objeto[0]\n",
    "    \n",
    "    #Si el menor peso disponible más el peso actual de la mochila es menor a W, no es completa. \n",
    "    minim = 100\n",
    "    for elem in D:\n",
    "        if elem[0] < minim:\n",
    "            minim = elem[0]\n",
    "            \n",
    "    if(minim + peso_actual_mochila <= W): return False\n",
    "    return True\n",
    "    \n",
    "    \n",
    "def evaluate2_inf(x):\n",
    "    \n",
    "    valor_en_mochila = 0\n",
    "    for objeto in x:\n",
    "        valor_en_mochila += objeto[1]\n",
    "    \n",
    "    sol = \"La mochila tiene un valor de \" + str(valor_en_mochila)\n",
    "    \n",
    "    return sol\n",
    "    \n",
    "def preprocess2_inf(x):\n",
    "\n",
    "    D.sort(key=lambda x:x[1]/x[0])"
   ]
  },
  {
   "cell_type": "code",
   "execution_count": 143,
   "metadata": {},
   "outputs": [
    {
     "name": "stdout",
     "output_type": "stream",
     "text": [
      "([[23, 69], [23, 69], [23, 69], [23, 69], [23, 69], [23, 69], [3, 65], [3, 65], [3, 65], [3, 65]], 'La mochila tiene un valor de 674')\n"
     ]
    }
   ],
   "source": [
    "import random\n",
    "random.seed(0)\n",
    "# Genera una lista de elementos al azar en forma listas [peso, valor]\n",
    "D = random_objects()\n",
    "# Instancia el GreedySolver y úsalo para resolver esta variante del problema de la mochila\n",
    "G2_inf = GreedySolver(choice2_inf,is_valid2_inf,is_complete2_inf,evaluate2_inf,preprocess2_inf)\n",
    "print(G2_inf.solve(copy.copy(D)))"
   ]
  },
  {
   "cell_type": "markdown",
   "metadata": {},
   "source": [
    "<div class=\"alert alert-warning\" style=\"width:80%; margin:0 auto; padding\">\n",
    "<center><p><h3> Cuestiones</h3></p> </center> </div>"
   ]
  },
  {
   "cell_type": "markdown",
   "metadata": {
    "lang": "es"
   },
   "source": [
    "<ul>\n",
    "    <li>¿En qué casos se encuentra solución óptima al problema?</li>\n",
    "    <li>Explica las soluciones planteadas y analiza su complejidad.</li>\n",
    "    <li>Explica la estrategia que has empleado para las variantes del problema 2, enfatizando las diferencias principales con respecto al problema original ¿Ha cambiado la complejidad? Justifica tu respuesta.</li>\n",
    "</ul>"
   ]
  },
  {
   "cell_type": "markdown",
   "metadata": {
    "lang": "en"
   },
   "source": [
    "<ul>\n",
    "    <li> In which cases is an optimal solution to the problem found?\n",
    "    <li> Explain the proposed solutions and analyze their complexity.</li>\n",
    "    <li> Explain the strategy you have used for the variants of problem 2, emphasizing the main differences with respect to the original problem. Has the complexity changed? Justify your answer.</li>\n",
    "</ul>"
   ]
  },
  {
   "cell_type": "markdown",
   "metadata": {
    "lang": "es"
   },
   "source": [
    "__Escribe aquí tus respuestas__\n",
    "\n",
    "### Pregunta 1\n",
    "\n",
    "En los apartados 1 y 3, donde el objetivo es maximizar el peso que hay en mochila para el 1 y para el 3 maximizar la cantidad de ojbetos escogidos, por lo que es fácil ordenar la lista de objetos de ambas formas.\n",
    "Esto no pasa en los apartados 2 y 4, ya que no se puede decir que estemos escogiendo la mejor función para maximizar lo que se pide en los apartados, aunque creo que es bastante buena.\n",
    "\n",
    "\n",
    "\n",
    "### Pregunta 2\n",
    "\n",
    "Apartado 1: La solución se basa en ordenar la lista de objetos de menor a mayor según su peso e ir sacando los objetos desde el final de la lista (haciendo pop). Si un objeto no es válido para entrar en la solución se procede a escoger el siguiente objeto disponible de la lista, y así sucessivamente. Así pues, cuando la solución sea completa o bien no queden elementos en D habremos finalizado. Para evaluar la solución lo que se hace es sacar el porcentaje de lo llena que está la mochila.\n",
    "Si k es el número de veces que se ejecuta el while principal, la complejidad de este apartado es de: O(|D|log|D|)+k(O(1)+2O|x|))+O(|x|) $\\approx$ O(|D|log|D|)+O(|x|), ya que O(|D|log|D|) es la complejidad de ordenar la lista D, O(1) la de sacar el último elemento de la lista por cada iteración del bucle, O(|x|) la de is_valid e is_complete (se recorre la lista x en ambas funciones) y el último sumando O(|x|) corresponde a la complejidad de la evaluación de la solución pues también se recorre dicha lista.\n",
    "\n",
    "Apartado 2: La solución se basa en ordenar la lista de objetos de menor a mayor según su valor/peso e ir sacando los objetos desde el final de la lista (haciendo pop). Si un objeto no es válido para entrar en la solución se procede a escoger el siguiente objeto disponible de la lista, y así sucessivamente. Así pues, cuando la solución sea completa o bien no queden elementos en D habremos finalizado. Para evaluar la solución lo que se hace es calcular el valor total en mochila.\n",
    "Si k es el número de veces que se ejecuta el while principal, la complejidad de este apartado es de: O(|D|log|D|)+k(O(1)+2O(|x|)+O(|D|)))+O(|x|) $\\approx$ O(|D|log|D|)+O(|D|), ya que O(|D|log|D|) es la complejidad de ordenar la lista D, O(1) la de sacar el último elemento de la lista por cada iteración del bucle, O(|x|) la de is_valid, O(|x|)+O(|D|) la de is_complete y el último sumando O(|x|) corresponde a la complejidad de la evaluación de la solución pues también se recorre dicha lista.\n",
    "\n",
    "Apartado 3: La solución se basa en ordenar la lista de objetos de mayor a menor según su peso e ir sacando los objetos desde el final de la lista (haciendo pop). Se ordena la lista de tal forma porque si queremos poner la mayor cantidad posible de objetos en la mochila el objeto que nos interesará más meter primero es el de menos peso. Si un objeto no es válido para entrar en la solución no se procede a escoger el siguiente objeto disponible de la lista, ya que sabemos que los siguientes objetos son 'peores' que el actual en cuanto a peso porque tenemos la lista ordenada. Así pues, la solución será completa una vez el is_valid devuelva false. Para evaluar la solución lo que se hace es contar los objetos que hay en la mochila. La complejidad de este apartado es la misma que la del apartado 1.\n",
    "\n",
    "Apartado 4: La solución se basa en ordenar la lista de objetos de menor a mayor según su valor/peso e ir sacando los objetos desde el final de la lista (haciendo pop). Si un objeto no es válido para entrar en la solución se procede a escoger el siguiente objeto disponible de la lista, y así sucessivamente. Así pues, cuando la solución sea completa o bien no queden elementos en D habremos finalizado. Cabe decir que en este caso siempre llenamos la mochila entera, ya que siempre se cumple que el único objeto del que solo cojemos una fracción es como máximo el último, ya que lo que queremos es meter el máximo valor en la mochila y como podemos poner objetor fraccionados se llena del todo (peso_en_mochila_final = W). Para evaluar la solución lo que se hace es calcular el valor total en mochila (teniendo en cuenta que el valor del último objeto que hemos metido en la mochila es la fracción del objeto que hemos metido). La complejidad de este apartado es la misma que la del apartado 1.\n",
    "\n",
    "\n",
    "### Preguntas 3 y 4\n",
    "Varios objetos: En esta variante lo que hemos tenido que considerar (que no teníamos en cuenta en el apartado 2) es que cada vez que escogemos un objeto tenemos que 'decirle' a D que queda un objeto menos de ese tipo, restandole 1 a la cantidad de ese objeto. No obstante, si cuando lo hemos escogido solo quedava uno, entonces hay que eliminarlo de D, pues ya no quedan objetos de ese tipo para escoger. Todo lo demás es idéntido al apartado 2, también la complejidad, ya que aunque hay más objetos en total, ala hora de ordenar la lista si hay n objetos de un tipo se les considera como a un objeto, pues todos los objetos de ese tipo tienen el mismo peso y valor. En la función is_complete pasa lo mismo, como recorremos D para sacar el mínimo peso la complejidad de ese for es O(|D|).\n",
    "\n",
    "Infinitos objetos: En lo que nos hemos basado para resolver esta variante es en ordenar la lista de menor a mayor según su valor/peso e ir 'sacando' el mismo objeto de la lista en el choice y justo después (dentro del choice) comprovar si el objeto is_valid. Si es así, seguir hasta que el is_valid devuelva false y es entonces cuando eliminamos el objeto de la lista y devolvemos el siguiente. Y así sucessivamente hasta llegar a la solución final. La complejidad de esta variante es un poco más alta que la del apartado 2, ya que la complejidad de la función choice no es O(1). Pero por otra parte podemos decir que en este caso la función choice es la que hace el 'trabajo sucio' ya que nos permite añadir como máximo todos los objetos a la solución (esto pasaria si el último objeto es la solución n veces por ejemplo). Entonces, podemos afirmar que la complejidad de esta variante es la misma que la del apartado 2.\n"
   ]
  },
  {
   "cell_type": "markdown",
   "metadata": {
    "lang": "en"
   },
   "source": [
    "__Write your answers here__\n",
    "\n",
    "### Question 1\n",
    "\n",
    "In sections 1 and 3, where the objective is to maximize the weight in the backpack for 1 and for 3 to maximize the amount of chosen objects, so it is easy to sort the list of objects in both ways.\n",
    "This does not happen in sections 2 and 4, since it cannot be said that we are choosing the best function to maximize what is requested in the sections, although I think it is quite good.\n",
    "\n",
    "\n",
    "\n",
    "### Question 2\n",
    "\n",
    "Section 1: The solution is based on sorting the list of objects from least to greatest according to their weight and taking out the objects from the end of the list (popping). If an object is not valid to enter the solution, the next available object is chosen from the list, and so on. Thus, when the solution is complete or there are no elements left in D we will have finished. To evaluate the solution, what is done is to get the percentage of how full the backpack is.\n",
    "If k is the number of times the main while is executed, the complexity of this section is: O(|D|log|D|)+k(O(1)+2O|x|))+O(|x|) $\\approx$ O(|D|log|D|)+O(|x|), since O(|D|log|D|) is the complexity of sorting the list D, O (1) that of removing the last item from the list for each iteration of the loop, O (undefinedxundefined) that of is _valid and is_ complete (the list x is traversed in both functions) and the last one addend O(|x|) corresponds to the complexity of the evaluation of the solution as that list is also traversed.\n",
    "\n",
    "Section 2: The solution is based on sorting the list of objects from least to greatest according to their value / weight and taking out the objects from the end of the list (popping). If an object is not valid to enter the solution, the next available object is chosen from the list, and so on. Thus, when the solution is complete or there are no elements left in D we will have finished. To evaluate the solution, what is done is to calculate the total value in the backpack.\n",
    "If k is the number of times the main while is executed, the complexity of this section is: O(|D|log|D|)+k(O(1)+2O(|x|)+O(|D|)))+O(|x|) $\\approx$ O(|D|log|D|)+O(|D|), since O(|D|log|D|) is the complexity of sorting the list D, O(1) that of removing the last item from the list for each iteration of the loop, O(|x|) the of is _valid, O(|x|)+O(|D|) that of is_ complete and the last one adding  O(|x|) corresponds to the complexity of the solution evaluation because it is also covered list.\n",
    "\n",
    "Section 3: The solution is based on sorting the list of objects from highest to lowest according to their weight and taking out the objects from the end of the list (popping). The list is sorted in such a way because if we want to put as many objects as possible in the backpack, the object that we are most interested in putting first is the one with the least weight. If an object is not valid to enter the solution it is not necessary to choose the next available object from the list, since we know that the following objects are 'worse' than the current one in terms of weight because we have the ordered list. So, the solution will be complete once the is _valid return false. To evaluate the solution, what is done is to count the objects in the backpack. The complexity of this section is the same as that of section 1.\n",
    "\n",
    "Section 4: The solution is based on sorting the list of objects from least to greatest according to their value / weight and taking out the objects from the end of the list (popping). If an object is not valid to enter the solution, the next available object is chosen from the list, and so on. Thus, when the solution is complete or there are no elements left in D we will have finished. It should be said that in this case we always fill the entire backpack, since it is always fulfilled that the only object of which we only take a fraction is the last, since what we want is to put the maximum value in the backpack and how we can put Fractional objector is filled completely (weight_ in _backpack_ final = W). In order to evaluate the solution, what is done is to calculate the total value in a backpack (taking into account that the value of the last object that we have put in the backpack is the fraction of the object that we have inserted). The complexity of this section is the same as that of section 1.\n",
    "\n",
    "\n",
    "### Questions 3 and 4\n",
    "Several objects: In this variant, what we have had to consider (which we did not take into account in section 2) is that every time we choose an object we have to 'tell' D that there is one less object of that type, subtracting 1 a the amount of that object. However, if when we have chosen only one left, then we must eliminate it from D, because there are no such objects left to choose from. Everything else is identical to section 2, also the complexity, since although there are more objects in total, when ordering the list if there are n objects of a type they are considered as an object, since all objects of that type They have the same weight and value. In the function is _complete the same thing happens, as we go through D to get the minimum weight the complexity of that for is O (| D |).\n",
    "\n",
    "Infinite objects: What we have relied on to solve this variant is to sort the list from least to greatest according to its value / weight and go 'removing' the same object from the list in the choice and just after (within the choice) check if the object is_ valid. If so, continue until is_valid returns false and that is when we remove the object from the list and return the next one. And so on until reaching the final solution. The complexity of this variant is a little higher than that of section 2, since the complexity of the choice function is not O (1). But on the other hand we can say that in this case the choice function is the one that does the 'dirty work' since it allows us to add at most all the objects to the solution (this would happen if the last object is the solution n times for example) . Then, we can affirm that the complexity of this variant is the same as that of section 2."
   ]
  },
  {
   "cell_type": "markdown",
   "metadata": {},
   "source": [
    "<div class=\"alert alert-info\">\n",
    "<center>\n",
    "  <h1>Entrega</h1>\n",
    "</center>\n",
    "<p>\n",
    "La entrega de esta práctica (junto a la de programación dinámica) se podrá realizar en el campus virtual hasta el día __25 de Noviembre a las 23:55__. En la tarea que se habilitará en el campus deberéis colgar __un archivo .zip__ que contenga __únicamente__ los notebooks de las dos prácticas siguiendo la siguiente nomenclatura:\n",
    "</p>\n",
    "<p>\n",
    "```\n",
    "*AA_P2_<apellido1>_<apellido2>_<nombre>.zip\n",
    "|___* AA_Greedy_<apellido1>_<apellido2>_<nombre>.ipynb\n",
    "|___* AA_PD_<apellido1>_<apellido2>_<nombre>.ipynb\n",
    "```\n",
    "\n",
    "</p>\n",
    "<p>\n",
    "Por ejemplo:\n",
    "</p>\n",
    "<p>\n",
    "```\n",
    "AA_P2_Doe_Ritchie_John.zip\n",
    "```\n",
    "\n",
    "</p>\n",
    "<p>\n",
    "\n",
    "Es fundamental que el código esté bién comentado y con un análisis de complejidad exhaustivo del algoritmo.También resulta de gran importancia que la entrega siga el formato indicado. \n",
    "</p>\n",
    "</div>"
   ]
  },
  {
   "cell_type": "code",
   "execution_count": null,
   "metadata": {
    "collapsed": true
   },
   "outputs": [],
   "source": []
  }
 ],
 "metadata": {
  "kernelspec": {
   "display_name": "Python 3",
   "language": "python",
   "name": "python3"
  },
  "language_info": {
   "codemirror_mode": {
    "name": "ipython",
    "version": 3
   },
   "file_extension": ".py",
   "mimetype": "text/x-python",
   "name": "python",
   "nbconvert_exporter": "python",
   "pygments_lexer": "ipython3",
   "version": "3.6.1"
  },
  "nbTranslate": {
   "displayLangs": [
    "*"
   ],
   "hotkey": "alt-t",
   "langInMainMenu": true,
   "sourceLang": "es",
   "targetLang": "en",
   "useGoogleTranslate": true
  }
 },
 "nbformat": 4,
 "nbformat_minor": 1
}
